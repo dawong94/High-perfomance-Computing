{
 "cells": [
  {
   "cell_type": "markdown",
   "metadata": {},
   "source": [
    "# Scratch Notebook\n",
    "\n",
    "In this notebook I give an example of how to write text and insert code snippets into a notebook \"Markdown\" cell. Double-click on a cell with text in order to see what was used to write its content.\n",
    "\n",
    "Additionally, I provide the import statements you will need to access the Python wrappers located in `homework2/wrappers.py` in case you want to experiment with them in the notebook. (These import statements are identical to those used at the top of `test_homework2.py`.)\n",
    "\n",
    "Finally, there is no need to commit changes to this notebook to your repository. We will not look at it."
   ]
  },
  {
   "cell_type": "code",
   "execution_count": 7,
   "metadata": {
    "collapsed": true
   },
   "outputs": [],
   "source": [
    "import numpy\n",
    "\n",
    "# THESE WILL NOT WORK UNTIL libhomework2.so is created\n",
    "from homework2 import (\n",
    "    vec_add,\n",
    "    vec_sub,\n",
    "    vec_norm,\n",
    "    mat_add,\n",
    "    mat_vec,\n",
    "    solve_lower_triangular,\n",
    "    solve_upper_triangular,\n",
    "    jacobi,\n",
    "    gauss_seidel,\n",
    ")"
   ]
  },
  {
   "cell_type": "code",
   "execution_count": 9,
   "metadata": {
    "collapsed": false
   },
   "outputs": [
    {
     "name": "stdout",
     "output_type": "stream",
     "text": [
      "[ 5.  7.  9.]\n"
     ]
    }
   ],
   "source": [
    "x = numpy.array([1,2,3], dtype=numpy.double)\n",
    "y = numpy.array([4,5,6], dtype=numpy.double)\n",
    "z = vec_add(x,y)\n",
    "\n",
    "print z"
   ]
  },
  {
   "cell_type": "markdown",
   "metadata": {},
   "source": [
    "## Formatting Suggestions\n",
    "\n",
    "If you want to use the notebook to write your report there are several formatting tools available to you. (Double-click this cell to see these commands.)\n",
    "\n",
    "* Bulleted lists,\n",
    "* Math: both inline:$f(x) = \\sin(x)^2$ and centered $$Ax = b,$$\n",
    "* *Italics* and **bold**,\n",
    "* Variable names and `fixed-width font`,\n",
    "* Large code snippets (like for your report)\n",
    "\n",
    "My code for `gauss_seidel`:\n",
    "\n",
    "``` c\n",
    "\n",
    "int gauss_seidel(double* out, double* A, double* b, int N, double epsilon)\n",
    "{\n",
    "  // my incredible code\n",
    "}\n",
    "```\n",
    "\n",
    "And here I go answering the report questions."
   ]
  },
  {
   "cell_type": "code",
   "execution_count": null,
   "metadata": {
    "collapsed": true
   },
   "outputs": [],
   "source": []
  }
 ],
 "metadata": {
  "kernelspec": {
   "display_name": "Python 2",
   "language": "python",
   "name": "python2"
  },
  "language_info": {
   "codemirror_mode": {
    "name": "ipython",
    "version": 2
   },
   "file_extension": ".py",
   "mimetype": "text/x-python",
   "name": "python",
   "nbconvert_exporter": "python",
   "pygments_lexer": "ipython2",
   "version": "2.7.11"
  }
 },
 "nbformat": 4,
 "nbformat_minor": 0
}
